
{
 "cells": [
  {
   "cell_type": "markdown",
   "metadata": {},
   "source": [
    "# 📊 Smart Attrition Prediction - Module 2: EDA\n",
    "## 🎯 Objective:\n",
    "- Analyze employee attrition patterns\n",
    "- Understand feature relationships\n",
    "- Provide insights for HR"
   ]
  },
  {
   "cell_type": "code",
   "execution_count": null,
   "metadata": {},
   "outputs": [],
   "source": [
    "# 📥 Import libraries\n",
    "import pandas as pd\n",
    "import matplotlib.pyplot as plt\n",
    "import seaborn as sns\n",
    "import scipy.stats as stats"
   ]
  },
  {
   "cell_type": "markdown",
   "metadata": {},
   "source": [
    "## 📁 Load the Dataset"
   ]
  },
  {
   "cell_type": "code",
   "execution_count": null,
   "metadata": {},
   "outputs": [],
   "source": [
    "# Load your CSV file\n",
    "df = pd.read_csv('M2_UPDATED.csv')\n",
    "df.head()"
   ]
  },
  {
   "cell_type": "markdown",
   "metadata": {},
   "source": [
    "## 📈 Descriptive Statistics"
   ]
  },
  {
   "cell_type": "code",
   "execution_count": null,
   "metadata": {},
   "outputs": [],
   "source": [
    "df.describe(include='all')"
   ]
  },
  {
   "cell_type": "markdown",
   "metadata": {},
   "source": [
    "## 🔍 Correlation Heatmap"
   ]
  },
  {
   "cell_type": "code",
   "execution_count": null,
   "metadata": {},
   "outputs": [],
   "source": [
    "plt.figure(figsize=(15,10))\n",
    "sns.heatmap(df.corr(), annot=True, cmap='coolwarm')\n",
    "plt.title('Correlation Heatmap')\n",
    "plt.show()"
   ]
  },
  {
   "cell_type": "markdown",
   "metadata": {},
   "source": [
    "## 📊 Visualizations"
   ]
  },
  {
   "cell_type": "code",
   "execution_count": null,
   "metadata": {},
   "outputs": [],
   "source": [
    "# Attrition by TenureBucket\n",
    "tenure_attrition = df.groupby('TenureBucket')['Attrition'].mean().reset_index()\n",
    "plt.figure(figsize=(8,5))\n",
    "sns.barplot(x='TenureBucket', y='Attrition', data=tenure_attrition, palette='Set2')\n",
    "plt.title('Attrition Rate by Tenure')\n",
    "plt.xlabel('Tenure Bucket')\n",
    "plt.ylabel('Attrition Rate')\n",
    "plt.show()"
   ]
  },
  {
   "cell_type": "markdown",
   "metadata": {},
   "source": [
    "## ✅ Hypothesis Testing (Example: Job Involvement vs Attrition)"
   ]
  },
  {
   "cell_type": "code",
   "execution_count": null,
   "metadata": {},
   "outputs": [],
   "source": [
    "contingency = pd.crosstab(df['JobInvolvement'], df['Attrition'])\n",
    "chi2, p, dof, expected = stats.chi2_contingency(contingency)\n",
    "print(f"Chi-Square Test Statistic: {chi2}")\n",
    "print(f"P-value: {p}")\n",
    "if p < 0.05:\n",
    "    print('✅ Significant relationship between Job Involvement and Attrition')\n",
    "else:\n",
    "    print('❌ No significant relationship')"
   ]
  }
 ],
 "metadata": {
  "kernelspec": {
   "display_name": "Python 3",
   "language": "python",
   "name": "python3"
  },
  "language_info": {
   "name": "python",
   "version": "3.11"
  }
 },
 "nbformat": 4,
 "nbformat_minor": 2
}
